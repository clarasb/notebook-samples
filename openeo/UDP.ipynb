{
 "cells": [
  {
   "attachments": {},
   "cell_type": "markdown",
   "metadata": {},
   "source": [
    "# User-Defined Processes (UDP)\n",
    "\n",
    "openEO API allows processes to be chained together in a process graph to build a particular algorithm. Often, users have specific (sub)chains that reoccur in the same process graph or even in different process graphs or algorithms. Here user can store such (sub)chains on the back-end as a so-called user-defined process. This allows you to build your library of reusable building blocks. Ultimately, the openEO API allows you to publicly expose your user-defined process, so that other users can invoke it as a service.\n",
    "\n",
    "This notebook provides a step-by-step guide on how to create your User-Defined Process (UDP) for Normalized Difference Water Index (NDWI) analysis. The guide covers the fundamental steps that need to be followed to create the UDP."
   ]
  },
  {
   "cell_type": "code",
   "execution_count": 1,
   "metadata": {},
   "outputs": [],
   "source": [
    "# import necessary packages\n",
    "\n",
    "from openeo.processes import array_create\n",
    "from openeo.api.process import Parameter\n",
    "import openeo\n",
    "import json"
   ]
  },
  {
   "cell_type": "code",
   "execution_count": 2,
   "metadata": {},
   "outputs": [
    {
     "name": "stdout",
     "output_type": "stream",
     "text": [
      "Authenticated using refresh token.\n"
     ]
    }
   ],
   "source": [
    "# establish a connection to the backend and authenticate\n",
    "\n",
    "connection = openeo.connect(url = \"openeo-staging.creo.vito.be\").authenticate_oidc()"
   ]
  },
  {
   "attachments": {},
   "cell_type": "markdown",
   "metadata": {},
   "source": [
    "The openEO Python client lets you define parameters as `Parameter` instances. In general you have to specify at least the parameter name, a description and a schema."
   ]
  },
  {
   "cell_type": "code",
   "execution_count": 3,
   "metadata": {},
   "outputs": [],
   "source": [
    "# define input parameters\n",
    "time_param = Parameter(\n",
    "                            name = 'date',\n",
    "                            description = \"A date within wich you wish to load the Terrasope NDVI product.\",\n",
    "                            schema = {\"type\":\"array\",\"subtype\":\"data-time\"}\n",
    "                            )\n",
    "spatial_param = Parameter(                            \n",
    "                            name = 'aoi',\n",
    "                            description = \"Spatial extent for area of interst to calculate ndvi\",\n",
    "                            schema = {\"type\":\"object\",\"subtype\":\"geojson\"}\n",
    "                            )"
   ]
  },
  {
   "cell_type": "code",
   "execution_count": 4,
   "metadata": {},
   "outputs": [],
   "source": [
    "# specify the collection with input as parameter variables that will be used in the process\n",
    "\n",
    "band = [\"B03\",\"B08\"]\n",
    "cube = connection.load_collection(\n",
    "                            \"SENTINEL2_L2A\",\n",
    "                            temporal_extent = time_param,\n",
    "                            spatial_extent = spatial_param,\n",
    "                            bands = band\n",
    "                            )\n",
    "cube = cube.max_time()"
   ]
  },
  {
   "attachments": {},
   "cell_type": "markdown",
   "metadata": {},
   "source": [
    "The NDWI is a vegetation index sensitive to the water content of vegetation and is complementary to the NDVI. High NDWI values show a high water content of the vegetation.\n",
    "$$ \\mathrm{NDWI} = \\frac{\\mathrm{Green} - \\mathrm{NIR}}{\\mathrm{Green} + \\mathrm{NIR}} $$"
   ]
  },
  {
   "cell_type": "code",
   "execution_count": 5,
   "metadata": {},
   "outputs": [],
   "source": [
    "green = cube.band(\"B03\")\n",
    "nir = cube.band(\"B08\")\n",
    "\n",
    "ndwi = ((green - nir) / (green + nir))"
   ]
  },
  {
   "attachments": {},
   "cell_type": "markdown",
   "metadata": {},
   "source": [
    "You can also inspect its openEO-style process graph representation, use the `.flat_graph()` method."
   ]
  },
  {
   "cell_type": "code",
   "execution_count": 10,
   "metadata": {},
   "outputs": [
    {
     "data": {
      "text/plain": [
       "{'loadcollection1': {'process_id': 'load_collection',\n",
       "  'arguments': {'bands': ['B03', 'B08'],\n",
       "   'id': 'SENTINEL2_L2A',\n",
       "   'spatial_extent': {'from_parameter': 'aoi'},\n",
       "   'temporal_extent': {'from_parameter': 'date'}}},\n",
       " 'reducedimension1': {'process_id': 'reduce_dimension',\n",
       "  'arguments': {'data': {'from_node': 'loadcollection1'},\n",
       "   'dimension': 'bands',\n",
       "   'reducer': {'process_graph': {'arrayelement1': {'process_id': 'array_element',\n",
       "      'arguments': {'data': {'from_parameter': 'data'}, 'index': 0}},\n",
       "     'arrayelement2': {'process_id': 'array_element',\n",
       "      'arguments': {'data': {'from_parameter': 'data'}, 'index': 1}},\n",
       "     'subtract1': {'process_id': 'subtract',\n",
       "      'arguments': {'x': {'from_node': 'arrayelement1'},\n",
       "       'y': {'from_node': 'arrayelement2'}}},\n",
       "     'add1': {'process_id': 'add',\n",
       "      'arguments': {'x': {'from_node': 'arrayelement1'},\n",
       "       'y': {'from_node': 'arrayelement2'}}},\n",
       "     'divide1': {'process_id': 'divide',\n",
       "      'arguments': {'x': {'from_node': 'subtract1'},\n",
       "       'y': {'from_node': 'add1'}},\n",
       "      'result': True}}}},\n",
       "  'result': True}}"
      ]
     },
     "execution_count": 10,
     "metadata": {},
     "output_type": "execute_result"
    }
   ],
   "source": [
    "ndwi.flat_graph()"
   ]
  },
  {
   "attachments": {},
   "cell_type": "markdown",
   "metadata": {},
   "source": [
    "We can now store this as a user-defined process called NDWI on the back-end and  pass `Parameter` objects"
   ]
  },
  {
   "cell_type": "code",
   "execution_count": 6,
   "metadata": {},
   "outputs": [
    {
     "data": {
      "text/html": [
       "\n",
       "    <script>\n",
       "    if (!window.customElements || !window.customElements.get('openeo-process')) {\n",
       "        var el = document.createElement('script');\n",
       "        el.src = \"https://cdn.jsdelivr.net/npm/@openeo/vue-components@2/assets/openeo.min.js\";\n",
       "        document.head.appendChild(el);\n",
       "\n",
       "        var font = document.createElement('font');\n",
       "        font.as = \"font\";\n",
       "        font.type = \"font/woff2\";\n",
       "        font.crossOrigin = true;\n",
       "        font.href = \"https://use.fontawesome.com/releases/v5.13.0/webfonts/fa-solid-900.woff2\"\n",
       "        document.head.appendChild(font);\n",
       "    }\n",
       "    </script>\n",
       "    <openeo-process>\n",
       "        <script type=\"application/json\">{\"show-graph\": true, \"provide-download\": false, \"process\": {\"id\": \"NDWI\", \"parameters\": [{\"description\": \"A date within wich you wish to load the Terrasope NDVI product.\", \"name\": \"date\", \"schema\": {\"subtype\": \"data-time\", \"type\": \"array\"}}, {\"description\": \"Spatial extent for area of interst to calculate ndvi\", \"name\": \"aoi\", \"schema\": {\"subtype\": \"geojson\", \"type\": \"object\"}}], \"process_graph\": {\"loadcollection1\": {\"arguments\": {\"bands\": [\"B03\", \"B08\"], \"id\": \"SENTINEL2_L2A\", \"spatial_extent\": {\"from_parameter\": \"aoi\"}, \"temporal_extent\": {\"from_parameter\": \"date\"}}, \"process_id\": \"load_collection\"}, \"reducedimension1\": {\"arguments\": {\"data\": {\"from_node\": \"loadcollection1\"}, \"dimension\": \"bands\", \"reducer\": {\"process_graph\": {\"add1\": {\"arguments\": {\"x\": {\"from_node\": \"arrayelement1\"}, \"y\": {\"from_node\": \"arrayelement2\"}}, \"process_id\": \"add\"}, \"arrayelement1\": {\"arguments\": {\"data\": {\"from_parameter\": \"data\"}, \"index\": 0}, \"process_id\": \"array_element\"}, \"arrayelement2\": {\"arguments\": {\"data\": {\"from_parameter\": \"data\"}, \"index\": 1}, \"process_id\": \"array_element\"}, \"divide1\": {\"arguments\": {\"x\": {\"from_node\": \"subtract1\"}, \"y\": {\"from_node\": \"add1\"}}, \"process_id\": \"divide\", \"result\": true}, \"subtract1\": {\"arguments\": {\"x\": {\"from_node\": \"arrayelement1\"}, \"y\": {\"from_node\": \"arrayelement2\"}}, \"process_id\": \"subtract\"}}}}, \"process_id\": \"reduce_dimension\", \"result\": true}}, \"public\": false}}</script>\n",
       "    </openeo-process>\n",
       "    "
      ],
      "text/plain": [
       "<openeo.rest.udp.RESTUserDefinedProcess at 0x25b4225deb0>"
      ]
     },
     "execution_count": 6,
     "metadata": {},
     "output_type": "execute_result"
    }
   ],
   "source": [
    "# publishing the service\n",
    "process_name = \"NDWI\"\n",
    "my_graph = ndwi.flat_graph()\n",
    "connection.save_user_defined_process(\n",
    "                                user_defined_process_id = process_name,\n",
    "                                process_graph = my_graph,\n",
    "                                parameters = [time_param,spatial_param],\n",
    "                                public = False\n",
    "                                )"
   ]
  },
  {
   "attachments": {},
   "cell_type": "markdown",
   "metadata": {},
   "source": [
    "Now, let’s evaluate the user-defined processes we defined.\n",
    "\n",
    "To use our custom **NDWI** process, we only have to specify a temporal and spatial extent, and let the predefined and default values do their work. We will use datacube_from_process() to construct a DataCube object which we can process further and download."
   ]
  },
  {
   "cell_type": "code",
   "execution_count": 8,
   "metadata": {},
   "outputs": [],
   "source": [
    "bbox = {\"west\":5.09, \"south\":51.18,\"east\":5.15,\"north\":51.21, \"crs\":4326}\n",
    "check_process = connection.datacube_from_process(process_id=\"NDWI\", date = [\"2022-06-01\", \"2022-10-01\"],aoi=bbox)"
   ]
  },
  {
   "cell_type": "code",
   "execution_count": 9,
   "metadata": {},
   "outputs": [],
   "source": [
    "check_process.download(\"ndwi.tiff\")"
   ]
  },
  {
   "cell_type": "code",
   "execution_count": null,
   "metadata": {},
   "outputs": [],
   "source": []
  }
 ],
 "metadata": {
  "kernelspec": {
   "display_name": "Python 3",
   "language": "python",
   "name": "python3"
  },
  "language_info": {
   "codemirror_mode": {
    "name": "ipython",
    "version": 3
   },
   "file_extension": ".py",
   "mimetype": "text/x-python",
   "name": "python",
   "nbconvert_exporter": "python",
   "pygments_lexer": "ipython3",
   "version": "3.9.16"
  }
 },
 "nbformat": 4,
 "nbformat_minor": 4
}
