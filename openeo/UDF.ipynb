{
 "cells": [
  {
   "attachments": {},
   "cell_type": "markdown",
   "metadata": {},
   "source": [
    "# User-Defined Functions (UDF)\n",
    "\n",
    "While openEO supports a wide range of pre-defined processes and allows to build more complex user-defined processes from them, you sometimes need operations or algorithms that are not (yet) available or standardized as openEO process. User-Defined Functions (UDF) is an openEO feature (through the run_udf process) that aims to fill that gap by allowing a user to express (a part of) an algorithm as a Python/R/… script to be run back-end side.\n",
    "\n",
    "Though several types of algorithms can be used as UDF applications, in this notebook, we showcase a simple example of how to work with UDF using the openEO Python Client library. "
   ]
  },
  {
   "cell_type": "code",
   "execution_count": 2,
   "metadata": {},
   "outputs": [
    {
     "name": "stdout",
     "output_type": "stream",
     "text": [
      "Authenticated using refresh token.\n"
     ]
    }
   ],
   "source": [
    "# estabish connection to the backend and authenticate it\n",
    "import openeo\n",
    "\n",
    "connection = openeo.connect(url = \"openeo-staging.creo.vito.be\").authenticate_oidc()"
   ]
  },
  {
   "cell_type": "code",
   "execution_count": 7,
   "metadata": {},
   "outputs": [
    {
     "data": {
      "text/html": [
       "\n",
       "    <script>\n",
       "    if (!window.customElements || !window.customElements.get('openeo-model-builder')) {\n",
       "        var el = document.createElement('script');\n",
       "        el.src = \"https://cdn.jsdelivr.net/npm/@openeo/vue-components@2/assets/openeo.min.js\";\n",
       "        document.head.appendChild(el);\n",
       "\n",
       "        var font = document.createElement('font');\n",
       "        font.as = \"font\";\n",
       "        font.type = \"font/woff2\";\n",
       "        font.crossOrigin = true;\n",
       "        font.href = \"https://use.fontawesome.com/releases/v5.13.0/webfonts/fa-solid-900.woff2\"\n",
       "        document.head.appendChild(font);\n",
       "    }\n",
       "    </script>\n",
       "    <openeo-model-builder>\n",
       "        <script type=\"application/json\">{\"id\": \"9f2830874bae410eb1fd33b84a7e4431\", \"explicit-zoom\": true, \"height\": \"400px\", \"value\": {\"process_graph\": {\"loadcollection1\": {\"process_id\": \"load_collection\", \"arguments\": {\"bands\": [\"B04\", \"B03\", \"B02\"], \"id\": \"SENTINEL2_L2A\", \"spatial_extent\": {\"west\": 5.05, \"south\": 51.21, \"east\": 5.1, \"north\": 51.23, \"crs\": \"EPSG:4326\"}, \"temporal_extent\": [\"2022-05-01\", \"2022-05-30\"]}}, \"reducedimension1\": {\"process_id\": \"reduce_dimension\", \"arguments\": {\"data\": {\"from_node\": \"loadcollection1\"}, \"dimension\": \"t\", \"reducer\": {\"process_graph\": {\"max1\": {\"process_id\": \"max\", \"arguments\": {\"data\": {\"from_parameter\": \"data\"}}, \"result\": true}}}}, \"result\": true}}}}</script>\n",
       "    </openeo-model-builder>\n",
       "    "
      ],
      "text/plain": [
       "<openeo.rest.datacube.DataCube at 0x7f21c0162240>"
      ]
     },
     "execution_count": 7,
     "metadata": {},
     "output_type": "execute_result"
    }
   ],
   "source": [
    "# load collection\n",
    "\n",
    "cube = connection.load_collection(\n",
    "                            \"SENTINEL2_L2A\",\n",
    "                            bands = [\"B04\", \"B03\", \"B02\"],\n",
    "                            temporal_extent = (\"2022-05-01\", \"2022-05-30\"),\n",
    "                            spatial_extent = {\"west\": 5.05, \"south\": 51.21, \"east\": 5.1, \"north\": 51.23,'crs': 'EPSG:4326'}\n",
    "\n",
    ")\n",
    "\n",
    "cube = cube.reduce_dimension(dimension = \"t\", reducer = \"max\")"
   ]
  },
  {
   "attachments": {},
   "cell_type": "markdown",
   "metadata": {},
   "source": [
    "Here the UDF code shown in the following cell does the actual value rescaling. "
   ]
  },
  {
   "cell_type": "code",
   "execution_count": 8,
   "metadata": {},
   "outputs": [],
   "source": [
    "# Build a UDF object from an inline string with Python source code.\n",
    "udf = openeo.UDF(\"\"\"\n",
    "from openeo.udf import XarrayDataCube\n",
    "\n",
    "def apply_datacube(cube: XarrayDataCube, context: dict) -> XarrayDataCube:\n",
    "    array = cube.get_array()\n",
    "    array.values = 0.0001 * array.values\n",
    "    return cube\n",
    "\"\"\")"
   ]
  },
  {
   "attachments": {},
   "cell_type": "markdown",
   "metadata": {},
   "source": [
    "User can also load their UDF from a seperate file using `openeo.UDF.from_file('my_udf.py')` and apply it along a dimension. "
   ]
  },
  {
   "cell_type": "code",
   "execution_count": 9,
   "metadata": {},
   "outputs": [],
   "source": [
    "# Apply the UDF to a cube.\n",
    "rescaled_cube = cube.apply(process=udf)"
   ]
  },
  {
   "cell_type": "code",
   "execution_count": 10,
   "metadata": {},
   "outputs": [],
   "source": [
    "rescaled_cube.download(\"rescale_s2.tiff\")"
   ]
  },
  {
   "cell_type": "code",
   "execution_count": null,
   "metadata": {},
   "outputs": [],
   "source": []
  }
 ],
 "metadata": {
  "kernelspec": {
   "display_name": "Python 3",
   "language": "python",
   "name": "python3"
  },
  "language_info": {
   "codemirror_mode": {
    "name": "ipython",
    "version": 3
   },
   "file_extension": ".py",
   "mimetype": "text/x-python",
   "name": "python",
   "nbconvert_exporter": "python",
   "pygments_lexer": "ipython3",
   "version": "3.9.16"
  }
 },
 "nbformat": 4,
 "nbformat_minor": 4
}
