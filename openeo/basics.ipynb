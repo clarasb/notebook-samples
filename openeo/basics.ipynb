{
 "cells": [
  {
   "cell_type": "markdown",
   "id": "04646862-7ec1-4618-bb74-9898146ae25b",
   "metadata": {
    "tags": []
   },
   "source": [
    "# How to get started with openEO Platform: Basics"
   ]
  },
  {
   "cell_type": "markdown",
   "id": "929aff73-2819-43ba-9aa4-f93ce2a012c4",
   "metadata": {},
   "source": [
    "**Connect to openEO Platform and print list of available collections**"
   ]
  },
  {
   "cell_type": "code",
   "execution_count": null,
   "id": "3ffec62c-1a9f-4fbb-a8e5-f6b660810fe1",
   "metadata": {
    "tags": []
   },
   "outputs": [],
   "source": [
    "import openeo\n",
    "connection = openeo.connect(url=\"openeo-dev.creo.vito.be\")"
   ]
  },
  {
   "cell_type": "code",
   "execution_count": null,
   "id": "0d6d48e0-fdfa-4c78-9f6e-fd2555f829b2",
   "metadata": {
    "tags": []
   },
   "outputs": [],
   "source": [
    "print(connection.list_collection_ids())"
   ]
  },
  {
   "cell_type": "markdown",
   "id": "ece57c0c-2965-4d13-b0e2-2661d7f1d40d",
   "metadata": {},
   "source": [
    "**Print 1st collection from the list**"
   ]
  },
  {
   "cell_type": "code",
   "execution_count": null,
   "id": "085ee4f5-bc20-4a21-b7c7-fe0a67d1126b",
   "metadata": {
    "tags": []
   },
   "outputs": [],
   "source": [
    "print(connection.list_collections()[1])"
   ]
  },
  {
   "cell_type": "markdown",
   "id": "26e9647e-6aee-446f-9895-edf24d722fe5",
   "metadata": {},
   "source": [
    "**Get detailed information about a collection**"
   ]
  },
  {
   "cell_type": "code",
   "execution_count": null,
   "id": "4d7fbf5d-2ae8-4d8f-98cf-075e81c63e64",
   "metadata": {
    "tags": []
   },
   "outputs": [],
   "source": [
    "connection.describe_collection(\"SENTINEL2_L2A\")"
   ]
  },
  {
   "cell_type": "markdown",
   "id": "1f66263d-bb93-45d1-9ef9-9ad6066cb418",
   "metadata": {},
   "source": [
    "**List processes that can be applied on the (EO) data**"
   ]
  },
  {
   "cell_type": "code",
   "execution_count": null,
   "id": "c1ae1049-d8d8-468d-8520-04edc0eff3f2",
   "metadata": {
    "tags": []
   },
   "outputs": [],
   "source": [
    "processes_list = (connection.list_processes())\n",
    "print(processes_list[:3])"
   ]
  },
  {
   "cell_type": "markdown",
   "id": "8aeefc7c-db08-4b96-81cc-d9f935e69c40",
   "metadata": {},
   "source": [
    "**Inspect one process closer**"
   ]
  },
  {
   "cell_type": "code",
   "execution_count": null,
   "id": "3585bb0f-44f3-4303-bbda-8099bcc6d51c",
   "metadata": {
    "tags": []
   },
   "outputs": [],
   "source": [
    "connection.describe_process(\"add\")"
   ]
  },
  {
   "cell_type": "code",
   "execution_count": null,
   "id": "63157c33-0065-4f7f-bb8b-20ebdc5047e9",
   "metadata": {},
   "outputs": [],
   "source": []
  }
 ],
 "metadata": {
  "kernelspec": {
   "display_name": "OpenEO",
   "language": "python",
   "name": "openeo"
  },
  "language_info": {
   "codemirror_mode": {
    "name": "ipython",
    "version": 3
   },
   "file_extension": ".py",
   "mimetype": "text/x-python",
   "name": "python",
   "nbconvert_exporter": "python",
   "pygments_lexer": "ipython3",
   "version": "3.8.16"
  }
 },
 "nbformat": 4,
 "nbformat_minor": 5
}
