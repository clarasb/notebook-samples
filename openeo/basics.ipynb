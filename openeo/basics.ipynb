{
 "cells": [
  {
   "attachments": {},
   "cell_type": "markdown",
   "id": "9e9da2fb",
   "metadata": {
    "tags": []
   },
   "source": [
    "# How to get started with openEO Platform: Basics"
   ]
  },
  {
   "attachments": {},
   "cell_type": "markdown",
   "id": "468cd68f",
   "metadata": {},
   "source": [
    "This notebook aims to provide users with fundamental knowledge on how to connect to the openEO platform, access the list of available collections, and extract relevant information about them."
   ]
  },
  {
   "attachments": {},
   "cell_type": "markdown",
   "id": "481e72b4",
   "metadata": {},
   "source": [
    "**Connect to openEO Platform and print list of available collections**"
   ]
  },
  {
   "cell_type": "code",
   "execution_count": 2,
   "id": "f170aa36",
   "metadata": {},
   "outputs": [
    {
     "data": {
      "text/plain": [
       "'0.16.0'"
      ]
     },
     "execution_count": 2,
     "metadata": {},
     "output_type": "execute_result"
    }
   ],
   "source": [
    "# import packages\n",
    "import openeo\n",
    "\n",
    "# check openEO version\n",
    "openeo.__version__"
   ]
  },
  {
   "cell_type": "code",
   "execution_count": 3,
   "id": "e39b8b22",
   "metadata": {
    "tags": []
   },
   "outputs": [],
   "source": [
    "# connect to the backend\n",
    "connection = openeo.connect(url = \"openeo-staging.creo.vito.be\")"
   ]
  },
  {
   "cell_type": "code",
   "execution_count": 4,
   "id": "d677448f",
   "metadata": {
    "tags": []
   },
   "outputs": [
    {
     "data": {
      "text/plain": [
       "['EEA_VEGETATION_INDICES',\n",
       " 'SEASONAL_TRAJECTORIES',\n",
       " 'VEGETATION_PHENOLOGY_AND_PRODUCTIVITY_PARAMETERS_SEASON_1',\n",
       " 'ESA_WORLDCOVER_10M_2020_V1',\n",
       " 'ESA_WORLDCOVER_10M_2021_V2',\n",
       " 'SENTINEL3_OLCI_L1B',\n",
       " 'SENTINEL3_SLSTR',\n",
       " 'SENTINEL2_L1C',\n",
       " 'SENTINEL2_L2A',\n",
       " 'SENTINEL1_GRD',\n",
       " 'COPERNICUS_30']"
      ]
     },
     "execution_count": 4,
     "metadata": {},
     "output_type": "execute_result"
    }
   ],
   "source": [
    "#check for available list of collection\n",
    "connection.list_collection_ids()"
   ]
  },
  {
   "attachments": {},
   "cell_type": "markdown",
   "id": "9ea2aab6",
   "metadata": {},
   "source": [
    "**Print 1st collection from the list**"
   ]
  },
  {
   "cell_type": "code",
   "execution_count": 5,
   "id": "e99fa9cc",
   "metadata": {
    "tags": []
   },
   "outputs": [
    {
     "data": {
      "text/plain": [
       "{'description': 'The Plant Phenology Index (PPI) is a physically based vegetation index, that is optimized for monitoring vegetation phenology and has a linear relationship with green leaf area index, a strong correlation with gross primary productivity, and is shown capable of disentangling remotely sensed plant phenology from snow seasonality. The PPI Seasonal Trajectories product is derived from a function fitting of the time series of the raw PPI values and hence provides a filtered time series of PPI, with regular time steps, and related quality information. The product is derived from Copernicus Sentinel-2 satellite observations and updated annually.',\n",
       " 'extent': {'spatial': {'bbox': [[-25, 27, 45, 72]]},\n",
       "  'temporal': {'interval': [['2017-01-01T00:00:00Z',\n",
       "     '2022-12-31T00:00:00Z']]}},\n",
       " 'id': 'SEASONAL_TRAJECTORIES',\n",
       " 'keywords': ['PPI',\n",
       "  'index',\n",
       "  'land',\n",
       "  'vegetation',\n",
       "  'plant',\n",
       "  'phenology',\n",
       "  'growing season',\n",
       "  'productivity',\n",
       "  'sentinel'],\n",
       " 'license': 'proprietary',\n",
       " 'links': [{'href': 'https://land.copernicus.eu/pan-european/biophysical-parameters/high-resolution-vegetation-phenology-and-productivity',\n",
       "   'rel': 'alternate'}],\n",
       " 'stac_extensions': ['https://stac-extensions.github.io/datacube/v2.2.0/schema.json',\n",
       "  'https://stac-extensions.github.io/eo/v1.1.0/schema.json'],\n",
       " 'stac_version': '0.9.0',\n",
       " 'title': 'Sentinel-2 derived vegetation indices (NDVI, FAPAR, PPI and LAI) at 10m resolution over European mainland. These indices are provided by the High Resolution Vegetation Phenology and Productivity service, part of the Copernicus land monitoring service.'}"
      ]
     },
     "execution_count": 5,
     "metadata": {},
     "output_type": "execute_result"
    }
   ],
   "source": [
    "connection.list_collections()[1]"
   ]
  },
  {
   "attachments": {},
   "cell_type": "markdown",
   "id": "08f2aaef",
   "metadata": {},
   "source": [
    "**Get detailed information about a collection**"
   ]
  },
  {
   "cell_type": "code",
   "execution_count": 6,
   "id": "6ce66dfb",
   "metadata": {
    "tags": []
   },
   "outputs": [
    {
     "data": {
      "text/html": [
       "\n",
       "    <script>\n",
       "    if (!window.customElements || !window.customElements.get('openeo-collection')) {\n",
       "        var el = document.createElement('script');\n",
       "        el.src = \"https://cdn.jsdelivr.net/npm/@openeo/vue-components@2/assets/openeo.min.js\";\n",
       "        document.head.appendChild(el);\n",
       "\n",
       "        var font = document.createElement('font');\n",
       "        font.as = \"font\";\n",
       "        font.type = \"font/woff2\";\n",
       "        font.crossOrigin = true;\n",
       "        font.href = \"https://use.fontawesome.com/releases/v5.13.0/webfonts/fa-solid-900.woff2\"\n",
       "        document.head.appendChild(font);\n",
       "    }\n",
       "    </script>\n",
       "    <openeo-collection>\n",
       "        <script type=\"application/json\">{\"mapOptions\": {}, \"data\": {\"cube:dimensions\": {\"bands\": {\"type\": \"bands\", \"values\": [\"B01\", \"B02\", \"B03\", \"B04\", \"B05\", \"B06\", \"B07\", \"B08\", \"B8A\", \"B09\", \"B10\", \"B11\", \"B12\", \"TCI\", \"WVP\", \"AOT\", \"SCL\"]}, \"t\": {\"extent\": [\"2015-07-04T00:00:00Z\", null], \"type\": \"temporal\"}, \"x\": {\"axis\": \"x\", \"extent\": [-180, 180], \"reference_system\": {\"$schema\": \"https://proj.org/schemas/v0.2/projjson.schema.json\", \"area\": \"World\", \"bbox\": {\"east_longitude\": 180, \"north_latitude\": 90, \"south_latitude\": -90, \"west_longitude\": -180}, \"coordinate_system\": {\"axis\": [{\"abbreviation\": \"Lat\", \"direction\": \"north\", \"name\": \"Geodetic latitude\", \"unit\": \"degree\"}, {\"abbreviation\": \"Lon\", \"direction\": \"east\", \"name\": \"Geodetic longitude\", \"unit\": \"degree\"}], \"subtype\": \"ellipsoidal\"}, \"datum\": {\"ellipsoid\": {\"inverse_flattening\": 298.257223563, \"name\": \"WGS 84\", \"semi_major_axis\": 6378137}, \"name\": \"World Geodetic System 1984\", \"type\": \"GeodeticReferenceFrame\"}, \"id\": {\"authority\": \"OGC\", \"code\": \"Auto42001\", \"version\": \"1.3\"}, \"name\": \"AUTO 42001 (Universal Transverse Mercator)\", \"type\": \"GeodeticCRS\"}, \"step\": 10, \"type\": \"spatial\"}, \"y\": {\"axis\": \"y\", \"extent\": [-90, 90], \"reference_system\": {\"$schema\": \"https://proj.org/schemas/v0.2/projjson.schema.json\", \"area\": \"World\", \"bbox\": {\"east_longitude\": 180, \"north_latitude\": 90, \"south_latitude\": -90, \"west_longitude\": -180}, \"coordinate_system\": {\"axis\": [{\"abbreviation\": \"Lat\", \"direction\": \"north\", \"name\": \"Geodetic latitude\", \"unit\": \"degree\"}, {\"abbreviation\": \"Lon\", \"direction\": \"east\", \"name\": \"Geodetic longitude\", \"unit\": \"degree\"}], \"subtype\": \"ellipsoidal\"}, \"datum\": {\"ellipsoid\": {\"inverse_flattening\": 298.257223563, \"name\": \"WGS 84\", \"semi_major_axis\": 6378137}, \"name\": \"World Geodetic System 1984\", \"type\": \"GeodeticReferenceFrame\"}, \"id\": {\"authority\": \"OGC\", \"code\": \"Auto42001\", \"version\": \"1.3\"}, \"name\": \"AUTO 42001 (Universal Transverse Mercator)\", \"type\": \"GeodeticCRS\"}, \"step\": 10, \"type\": \"spatial\"}}, \"description\": \"SENTINEL-2 is a wide-swath, high-resolution, multi-spectral imaging mission, supporting Copernicus Land Monitoring studies, including the monitoring of vegetation, soil and water cover, as well as observation of inland waterways and coastal areas. The SENTINEL-2 Multispectral Instrument (MSI) samples 13 spectral bands: four bands at 10 metres, six bands at 20 metres and three bands at 60 metres spatial resolution.\\n The level 2A data is atmospherically corrected using Sen2Cor.\", \"extent\": {\"spatial\": {\"bbox\": [[-180, -90, 180, 90]]}, \"temporal\": {\"interval\": [[\"2015-07-04T00:00:00Z\", null]]}}, \"id\": \"SENTINEL2_L2A\", \"license\": \"proprietary\", \"links\": [\"https://earth.esa.int/web/sentinel/user-guides/sentinel-2-msi/product-types/level-2a\", \"https://creodias.eu/data-offer\"], \"name\": \"SENTINEL2_L2A\", \"providers\": [], \"stac_extensions\": [\"https://stac-extensions.github.io/datacube/v2.2.0/schema.json\", \"https://stac-extensions.github.io/eo/v1.1.0/schema.json\"], \"stac_version\": \"0.9.0\", \"summaries\": {\"eo:bands\": [{\"aliases\": [\"IMG_DATA_Band_B01_60m_Tile1_Data\"], \"common_name\": \"coastal aerosol\", \"gsd\": 60, \"name\": \"B01\", \"offset\": 0, \"scale\": 0.0001, \"type\": \"int16\", \"unit\": \"1\", \"wavelength_nm\": 442.7}, {\"aliases\": [\"IMG_DATA_Band_B02_10m_Tile1_Data\"], \"center_wavelength\": 0.4966, \"common_name\": \"blue\", \"gsd\": 10, \"name\": \"B02\", \"offset\": 0, \"scale\": 0.0001, \"type\": \"int16\", \"unit\": \"1\", \"wavelength_nm\": 496.6}, {\"aliases\": [\"IMG_DATA_Band_B03_10m_Tile1_Data\"], \"center_wavelength\": 0.56, \"common_name\": \"green\", \"gsd\": 10, \"name\": \"B03\", \"offset\": 0, \"scale\": 0.0001, \"type\": \"int16\", \"unit\": \"1\", \"wavelength_nm\": 560}, {\"aliases\": [\"IMG_DATA_Band_B04_10m_Tile1_Data\"], \"center_wavelength\": 0.6645, \"common_name\": \"red\", \"gsd\": 10, \"name\": \"B04\", \"offset\": 0, \"scale\": 0.0001, \"type\": \"int16\", \"unit\": \"1\", \"wavelength_nm\": 664.5}, {\"aliases\": [\"IMG_DATA_Band_B05_20m_Tile1_Data\"], \"common_name\": \"nir\", \"gsd\": 20, \"name\": \"B05\", \"offset\": 0, \"scale\": 0.0001, \"type\": \"int16\", \"unit\": \"1\", \"wavelength_nm\": 704.1}, {\"aliases\": [\"IMG_DATA_Band_B06_20m_Tile1_Data\"], \"gsd\": 20, \"name\": \"B06\", \"offset\": 0, \"scale\": 0.0001, \"type\": \"int16\", \"unit\": \"1\", \"wavelength_nm\": 740.5}, {\"aliases\": [\"IMG_DATA_Band_B07_20m_Tile1_Data\"], \"gsd\": 20, \"name\": \"B07\", \"offset\": 0, \"scale\": 0.0001, \"type\": \"int16\", \"unit\": \"1\", \"wavelength_nm\": 782.8}, {\"aliases\": [\"IMG_DATA_Band_B08_10m_Tile1_Data\"], \"center_wavelength\": 0.8351, \"common_name\": \"nir\", \"gsd\": 10, \"name\": \"B08\", \"offset\": 0, \"scale\": 0.0001, \"type\": \"int16\", \"unit\": \"1\", \"wavelength_nm\": 835.1}, {\"aliases\": [\"IMG_DATA_Band_B8A_20m_Tile1_Data\"], \"gsd\": 20, \"name\": \"B8A\", \"offset\": 0, \"scale\": 0.0001, \"type\": \"int16\", \"unit\": \"1\", \"wavelength_nm\": 864.7}, {\"aliases\": [\"IMG_DATA_Band_B09_60m_Tile1_Data\"], \"gsd\": 60, \"name\": \"B09\", \"offset\": 0, \"scale\": 0.0001, \"type\": \"int16\", \"unit\": \"1\", \"wavelength_nm\": 945.1}, {\"aliases\": [\"IMG_DATA_Band_B10_60m_Tile1_Data\"], \"gsd\": 60, \"name\": \"B10\", \"offset\": 0, \"scale\": 0.0001, \"type\": \"int16\", \"unit\": \"1\", \"wavelength_nm\": 1373.5}, {\"aliases\": [\"IMG_DATA_Band_B11_20m_Tile1_Data\"], \"common_name\": \"swir\", \"gsd\": 20, \"name\": \"B11\", \"offset\": 0, \"scale\": 0.0001, \"type\": \"int16\", \"unit\": \"1\", \"wavelength_nm\": 1613.7}, {\"aliases\": [\"IMG_DATA_Band_B12_20m_Tile1_Data\"], \"common_name\": \"swir\", \"gsd\": 20, \"name\": \"B12\", \"offset\": 0, \"scale\": 0.0001, \"type\": \"int16\", \"unit\": \"1\", \"wavelength_nm\": 2202.4}, {\"aliases\": [\"IMG_DATA_Band_TCI_10m_Tile1_Data\"], \"name\": \"TCI\"}, {\"aliases\": [\"IMG_DATA_Band_WVP_10m_Tile1_Data\"], \"name\": \"WVP\"}, {\"aliases\": [\"IMG_DATA_Band_AOT_20m_Tile1_Data\"], \"name\": \"AOT\"}, {\"aliases\": [\"IMG_DATA_Band_SCL_20m_Tile1_Data\"], \"name\": \"SCL\"}], \"eo:cloud_cover\": {\"maximum\": 100, \"minimum\": 0}}, \"title\": \"Sentinel-2 L2A\"}}</script>\n",
       "    </openeo-collection>\n",
       "    "
      ],
      "text/plain": [
       "{'cube:dimensions': {'bands': {'type': 'bands',\n",
       "   'values': ['B01',\n",
       "    'B02',\n",
       "    'B03',\n",
       "    'B04',\n",
       "    'B05',\n",
       "    'B06',\n",
       "    'B07',\n",
       "    'B08',\n",
       "    'B8A',\n",
       "    'B09',\n",
       "    'B10',\n",
       "    'B11',\n",
       "    'B12',\n",
       "    'TCI',\n",
       "    'WVP',\n",
       "    'AOT',\n",
       "    'SCL']},\n",
       "  't': {'extent': ['2015-07-04T00:00:00Z', None], 'type': 'temporal'},\n",
       "  'x': {'axis': 'x',\n",
       "   'extent': [-180, 180],\n",
       "   'reference_system': {'$schema': 'https://proj.org/schemas/v0.2/projjson.schema.json',\n",
       "    'area': 'World',\n",
       "    'bbox': {'east_longitude': 180,\n",
       "     'north_latitude': 90,\n",
       "     'south_latitude': -90,\n",
       "     'west_longitude': -180},\n",
       "    'coordinate_system': {'axis': [{'abbreviation': 'Lat',\n",
       "       'direction': 'north',\n",
       "       'name': 'Geodetic latitude',\n",
       "       'unit': 'degree'},\n",
       "      {'abbreviation': 'Lon',\n",
       "       'direction': 'east',\n",
       "       'name': 'Geodetic longitude',\n",
       "       'unit': 'degree'}],\n",
       "     'subtype': 'ellipsoidal'},\n",
       "    'datum': {'ellipsoid': {'inverse_flattening': 298.257223563,\n",
       "      'name': 'WGS 84',\n",
       "      'semi_major_axis': 6378137},\n",
       "     'name': 'World Geodetic System 1984',\n",
       "     'type': 'GeodeticReferenceFrame'},\n",
       "    'id': {'authority': 'OGC', 'code': 'Auto42001', 'version': '1.3'},\n",
       "    'name': 'AUTO 42001 (Universal Transverse Mercator)',\n",
       "    'type': 'GeodeticCRS'},\n",
       "   'step': 10,\n",
       "   'type': 'spatial'},\n",
       "  'y': {'axis': 'y',\n",
       "   'extent': [-90, 90],\n",
       "   'reference_system': {'$schema': 'https://proj.org/schemas/v0.2/projjson.schema.json',\n",
       "    'area': 'World',\n",
       "    'bbox': {'east_longitude': 180,\n",
       "     'north_latitude': 90,\n",
       "     'south_latitude': -90,\n",
       "     'west_longitude': -180},\n",
       "    'coordinate_system': {'axis': [{'abbreviation': 'Lat',\n",
       "       'direction': 'north',\n",
       "       'name': 'Geodetic latitude',\n",
       "       'unit': 'degree'},\n",
       "      {'abbreviation': 'Lon',\n",
       "       'direction': 'east',\n",
       "       'name': 'Geodetic longitude',\n",
       "       'unit': 'degree'}],\n",
       "     'subtype': 'ellipsoidal'},\n",
       "    'datum': {'ellipsoid': {'inverse_flattening': 298.257223563,\n",
       "      'name': 'WGS 84',\n",
       "      'semi_major_axis': 6378137},\n",
       "     'name': 'World Geodetic System 1984',\n",
       "     'type': 'GeodeticReferenceFrame'},\n",
       "    'id': {'authority': 'OGC', 'code': 'Auto42001', 'version': '1.3'},\n",
       "    'name': 'AUTO 42001 (Universal Transverse Mercator)',\n",
       "    'type': 'GeodeticCRS'},\n",
       "   'step': 10,\n",
       "   'type': 'spatial'}},\n",
       " 'description': 'SENTINEL-2 is a wide-swath, high-resolution, multi-spectral imaging mission, supporting Copernicus Land Monitoring studies, including the monitoring of vegetation, soil and water cover, as well as observation of inland waterways and coastal areas. The SENTINEL-2 Multispectral Instrument (MSI) samples 13 spectral bands: four bands at 10 metres, six bands at 20 metres and three bands at 60 metres spatial resolution.\\n The level 2A data is atmospherically corrected using Sen2Cor.',\n",
       " 'extent': {'spatial': {'bbox': [[-180, -90, 180, 90]]},\n",
       "  'temporal': {'interval': [['2015-07-04T00:00:00Z', None]]}},\n",
       " 'id': 'SENTINEL2_L2A',\n",
       " 'license': 'proprietary',\n",
       " 'links': ['https://earth.esa.int/web/sentinel/user-guides/sentinel-2-msi/product-types/level-2a',\n",
       "  'https://creodias.eu/data-offer'],\n",
       " 'name': 'SENTINEL2_L2A',\n",
       " 'providers': [],\n",
       " 'stac_extensions': ['https://stac-extensions.github.io/datacube/v2.2.0/schema.json',\n",
       "  'https://stac-extensions.github.io/eo/v1.1.0/schema.json'],\n",
       " 'stac_version': '0.9.0',\n",
       " 'summaries': {'eo:bands': [{'aliases': ['IMG_DATA_Band_B01_60m_Tile1_Data'],\n",
       "    'common_name': 'coastal aerosol',\n",
       "    'gsd': 60,\n",
       "    'name': 'B01',\n",
       "    'offset': 0,\n",
       "    'scale': 0.0001,\n",
       "    'type': 'int16',\n",
       "    'unit': '1',\n",
       "    'wavelength_nm': 442.7},\n",
       "   {'aliases': ['IMG_DATA_Band_B02_10m_Tile1_Data'],\n",
       "    'center_wavelength': 0.4966,\n",
       "    'common_name': 'blue',\n",
       "    'gsd': 10,\n",
       "    'name': 'B02',\n",
       "    'offset': 0,\n",
       "    'scale': 0.0001,\n",
       "    'type': 'int16',\n",
       "    'unit': '1',\n",
       "    'wavelength_nm': 496.6},\n",
       "   {'aliases': ['IMG_DATA_Band_B03_10m_Tile1_Data'],\n",
       "    'center_wavelength': 0.56,\n",
       "    'common_name': 'green',\n",
       "    'gsd': 10,\n",
       "    'name': 'B03',\n",
       "    'offset': 0,\n",
       "    'scale': 0.0001,\n",
       "    'type': 'int16',\n",
       "    'unit': '1',\n",
       "    'wavelength_nm': 560},\n",
       "   {'aliases': ['IMG_DATA_Band_B04_10m_Tile1_Data'],\n",
       "    'center_wavelength': 0.6645,\n",
       "    'common_name': 'red',\n",
       "    'gsd': 10,\n",
       "    'name': 'B04',\n",
       "    'offset': 0,\n",
       "    'scale': 0.0001,\n",
       "    'type': 'int16',\n",
       "    'unit': '1',\n",
       "    'wavelength_nm': 664.5},\n",
       "   {'aliases': ['IMG_DATA_Band_B05_20m_Tile1_Data'],\n",
       "    'common_name': 'nir',\n",
       "    'gsd': 20,\n",
       "    'name': 'B05',\n",
       "    'offset': 0,\n",
       "    'scale': 0.0001,\n",
       "    'type': 'int16',\n",
       "    'unit': '1',\n",
       "    'wavelength_nm': 704.1},\n",
       "   {'aliases': ['IMG_DATA_Band_B06_20m_Tile1_Data'],\n",
       "    'gsd': 20,\n",
       "    'name': 'B06',\n",
       "    'offset': 0,\n",
       "    'scale': 0.0001,\n",
       "    'type': 'int16',\n",
       "    'unit': '1',\n",
       "    'wavelength_nm': 740.5},\n",
       "   {'aliases': ['IMG_DATA_Band_B07_20m_Tile1_Data'],\n",
       "    'gsd': 20,\n",
       "    'name': 'B07',\n",
       "    'offset': 0,\n",
       "    'scale': 0.0001,\n",
       "    'type': 'int16',\n",
       "    'unit': '1',\n",
       "    'wavelength_nm': 782.8},\n",
       "   {'aliases': ['IMG_DATA_Band_B08_10m_Tile1_Data'],\n",
       "    'center_wavelength': 0.8351,\n",
       "    'common_name': 'nir',\n",
       "    'gsd': 10,\n",
       "    'name': 'B08',\n",
       "    'offset': 0,\n",
       "    'scale': 0.0001,\n",
       "    'type': 'int16',\n",
       "    'unit': '1',\n",
       "    'wavelength_nm': 835.1},\n",
       "   {'aliases': ['IMG_DATA_Band_B8A_20m_Tile1_Data'],\n",
       "    'gsd': 20,\n",
       "    'name': 'B8A',\n",
       "    'offset': 0,\n",
       "    'scale': 0.0001,\n",
       "    'type': 'int16',\n",
       "    'unit': '1',\n",
       "    'wavelength_nm': 864.7},\n",
       "   {'aliases': ['IMG_DATA_Band_B09_60m_Tile1_Data'],\n",
       "    'gsd': 60,\n",
       "    'name': 'B09',\n",
       "    'offset': 0,\n",
       "    'scale': 0.0001,\n",
       "    'type': 'int16',\n",
       "    'unit': '1',\n",
       "    'wavelength_nm': 945.1},\n",
       "   {'aliases': ['IMG_DATA_Band_B10_60m_Tile1_Data'],\n",
       "    'gsd': 60,\n",
       "    'name': 'B10',\n",
       "    'offset': 0,\n",
       "    'scale': 0.0001,\n",
       "    'type': 'int16',\n",
       "    'unit': '1',\n",
       "    'wavelength_nm': 1373.5},\n",
       "   {'aliases': ['IMG_DATA_Band_B11_20m_Tile1_Data'],\n",
       "    'common_name': 'swir',\n",
       "    'gsd': 20,\n",
       "    'name': 'B11',\n",
       "    'offset': 0,\n",
       "    'scale': 0.0001,\n",
       "    'type': 'int16',\n",
       "    'unit': '1',\n",
       "    'wavelength_nm': 1613.7},\n",
       "   {'aliases': ['IMG_DATA_Band_B12_20m_Tile1_Data'],\n",
       "    'common_name': 'swir',\n",
       "    'gsd': 20,\n",
       "    'name': 'B12',\n",
       "    'offset': 0,\n",
       "    'scale': 0.0001,\n",
       "    'type': 'int16',\n",
       "    'unit': '1',\n",
       "    'wavelength_nm': 2202.4},\n",
       "   {'aliases': ['IMG_DATA_Band_TCI_10m_Tile1_Data'], 'name': 'TCI'},\n",
       "   {'aliases': ['IMG_DATA_Band_WVP_10m_Tile1_Data'], 'name': 'WVP'},\n",
       "   {'aliases': ['IMG_DATA_Band_AOT_20m_Tile1_Data'], 'name': 'AOT'},\n",
       "   {'aliases': ['IMG_DATA_Band_SCL_20m_Tile1_Data'], 'name': 'SCL'}],\n",
       "  'eo:cloud_cover': {'maximum': 100, 'minimum': 0}},\n",
       " 'title': 'Sentinel-2 L2A'}"
      ]
     },
     "execution_count": 6,
     "metadata": {},
     "output_type": "execute_result"
    }
   ],
   "source": [
    "# get a description about the collection\n",
    "connection.describe_collection(\"SENTINEL2_L2A\")"
   ]
  },
  {
   "attachments": {},
   "cell_type": "markdown",
   "id": "59fba9b9",
   "metadata": {},
   "source": [
    "**List processes that can be applied on the (EO) data**"
   ]
  },
  {
   "cell_type": "code",
   "execution_count": 7,
   "id": "946e2647",
   "metadata": {
    "tags": []
   },
   "outputs": [
    {
     "name": "stdout",
     "output_type": "stream",
     "text": [
      "[{'categories': ['arrays'], 'description': 'Applies a process to each individual value in the array. This is basically what other languages call either a `for each` loop or a `map` function.', 'id': 'array_apply', 'links': [{'href': 'https://processes.openeo.org/1.2.0/examples/array_find_nodata.json', 'rel': 'example', 'title': 'Find no-data values in arrays', 'type': 'application/json'}, {'href': 'https://processes.openeo.org/1.2.0/examples/array_contains_nodata.json', 'rel': 'example', 'title': 'Check for no-data values in arrays', 'type': 'application/json'}], 'parameters': [{'description': 'An array.', 'name': 'data', 'schema': {'items': {'description': 'Any data type is allowed.'}, 'type': 'array'}}, {'description': 'A process that accepts and returns a single value and is applied on each individual value in the array. The process may consist of multiple sub-processes and could, for example, consist of processes such as ``abs()`` or ``linear_scale_range()``.', 'name': 'process', 'schema': {'parameters': [{'description': 'The value of the current element being processed.', 'name': 'x', 'schema': {'description': 'Any data type.'}}, {'description': 'The zero-based index of the current element being processed.', 'name': 'index', 'schema': {'minimum': 0, 'type': 'integer'}}, {'default': None, 'description': 'The label of the current element being processed. Only populated for labeled arrays.', 'name': 'label', 'optional': True, 'schema': [{'type': 'number'}, {'type': 'string'}, {'type': 'null'}]}, {'default': None, 'description': 'Additional data passed by the user.', 'name': 'context', 'optional': True, 'schema': {'description': 'Any data type.'}}], 'returns': {'description': 'The value to be set in the new array.', 'schema': {'description': 'Any data type.'}}, 'subtype': 'process-graph', 'type': 'object'}}, {'default': None, 'description': 'Additional data to be passed to the process.', 'name': 'context', 'optional': True, 'schema': {'description': 'Any data type.'}}], 'returns': {'description': 'An array with the newly computed values. The number of elements are the same as for the original array.', 'schema': {'items': {'description': 'Any data type is allowed.'}, 'type': 'array'}}, 'summary': 'Apply a process to each array element'}, {'categories': ['math > trigonometric'], 'description': 'Computes the arc cosine of `x`. The arc cosine is the inverse function of the cosine so that *`arccos(cos(x)) = x`*.\\n\\nWorks on radians only.\\nThe no-data value `null` is passed through and therefore gets propagated.', 'examples': [{'arguments': {'x': 1}, 'returns': 0}], 'id': 'arccos', 'links': [{'href': 'http://mathworld.wolfram.com/InverseCosine.html', 'rel': 'about', 'title': 'Inverse cosine explained by Wolfram MathWorld'}], 'parameters': [{'description': 'A number.', 'name': 'x', 'schema': {'type': ['number', 'null']}}], 'returns': {'description': 'The computed angle in radians.', 'schema': {'type': ['number', 'null']}}, 'summary': 'Inverse cosine'}, {'categories': ['math > trigonometric'], 'description': 'Computes the inverse hyperbolic cosine of `x`. It is the inverse function of the hyperbolic cosine so that *`arcosh(cosh(x)) = x`*.\\n\\nWorks on radians only.\\nThe no-data value `null` is passed through and therefore gets propagated.', 'examples': [{'arguments': {'x': 1}, 'returns': 0}], 'id': 'arcosh', 'links': [{'href': 'http://mathworld.wolfram.com/InverseHyperbolicCosine.html', 'rel': 'about', 'title': 'Inverse hyperbolic cosine explained by Wolfram MathWorld'}], 'parameters': [{'description': 'A number.', 'name': 'x', 'schema': {'type': ['number', 'null']}}], 'returns': {'description': 'The computed angle in radians.', 'schema': {'type': ['number', 'null']}}, 'summary': 'Inverse hyperbolic cosine'}]\n"
     ]
    }
   ],
   "source": [
    "processes_list = (connection.list_processes())\n",
    "print(processes_list[:3])"
   ]
  },
  {
   "attachments": {},
   "cell_type": "markdown",
   "id": "f52a5fbc",
   "metadata": {},
   "source": [
    "**Inspect one process closer**"
   ]
  },
  {
   "cell_type": "code",
   "execution_count": 8,
   "id": "30d1d7be",
   "metadata": {
    "tags": []
   },
   "outputs": [
    {
     "data": {
      "text/html": [
       "\n",
       "    <script>\n",
       "    if (!window.customElements || !window.customElements.get('openeo-process')) {\n",
       "        var el = document.createElement('script');\n",
       "        el.src = \"https://cdn.jsdelivr.net/npm/@openeo/vue-components@2/assets/openeo.min.js\";\n",
       "        document.head.appendChild(el);\n",
       "\n",
       "        var font = document.createElement('font');\n",
       "        font.as = \"font\";\n",
       "        font.type = \"font/woff2\";\n",
       "        font.crossOrigin = true;\n",
       "        font.href = \"https://use.fontawesome.com/releases/v5.13.0/webfonts/fa-solid-900.woff2\"\n",
       "        document.head.appendChild(font);\n",
       "    }\n",
       "    </script>\n",
       "    <openeo-process>\n",
       "        <script type=\"application/json\">{\"show-graph\": true, \"provide-download\": false, \"process\": {\"categories\": [\"math\"], \"description\": \"Sums up the two numbers `x` and `y` (*`x + y`*) and returns the computed sum.\\n\\nNo-data values are taken into account so that `null` is returned if any element is such a value.\\n\\nThe computations follow [IEEE Standard 754](https://ieeexplore.ieee.org/document/8766229) whenever the processing environment supports it.\", \"examples\": [{\"arguments\": {\"x\": 5, \"y\": 2.5}, \"returns\": 7.5}, {\"arguments\": {\"x\": -2, \"y\": -4}, \"returns\": -6}, {\"arguments\": {\"x\": 1, \"y\": null}, \"returns\": null}], \"id\": \"add\", \"links\": [{\"href\": \"http://mathworld.wolfram.com/Sum.html\", \"rel\": \"about\", \"title\": \"Sum explained by Wolfram MathWorld\"}, {\"href\": \"https://ieeexplore.ieee.org/document/8766229\", \"rel\": \"about\", \"title\": \"IEEE Standard 754-2019 for Floating-Point Arithmetic\"}], \"parameters\": [{\"description\": \"The first summand.\", \"name\": \"x\", \"schema\": {\"type\": [\"number\", \"null\"]}}, {\"description\": \"The second summand.\", \"name\": \"y\", \"schema\": {\"type\": [\"number\", \"null\"]}}], \"process_graph\": {\"sum\": {\"arguments\": {\"data\": [{\"from_parameter\": \"x\"}, {\"from_parameter\": \"y\"}], \"ignore_nodata\": false}, \"process_id\": \"sum\", \"result\": true}}, \"returns\": {\"description\": \"The computed sum of the two numbers.\", \"schema\": {\"type\": [\"number\", \"null\"]}}, \"summary\": \"Addition of two numbers\"}}</script>\n",
       "    </openeo-process>\n",
       "    "
      ],
      "text/plain": [
       "{'categories': ['math'],\n",
       " 'description': 'Sums up the two numbers `x` and `y` (*`x + y`*) and returns the computed sum.\\n\\nNo-data values are taken into account so that `null` is returned if any element is such a value.\\n\\nThe computations follow [IEEE Standard 754](https://ieeexplore.ieee.org/document/8766229) whenever the processing environment supports it.',\n",
       " 'examples': [{'arguments': {'x': 5, 'y': 2.5}, 'returns': 7.5},\n",
       "  {'arguments': {'x': -2, 'y': -4}, 'returns': -6},\n",
       "  {'arguments': {'x': 1, 'y': None}, 'returns': None}],\n",
       " 'id': 'add',\n",
       " 'links': [{'href': 'http://mathworld.wolfram.com/Sum.html',\n",
       "   'rel': 'about',\n",
       "   'title': 'Sum explained by Wolfram MathWorld'},\n",
       "  {'href': 'https://ieeexplore.ieee.org/document/8766229',\n",
       "   'rel': 'about',\n",
       "   'title': 'IEEE Standard 754-2019 for Floating-Point Arithmetic'}],\n",
       " 'parameters': [{'description': 'The first summand.',\n",
       "   'name': 'x',\n",
       "   'schema': {'type': ['number', 'null']}},\n",
       "  {'description': 'The second summand.',\n",
       "   'name': 'y',\n",
       "   'schema': {'type': ['number', 'null']}}],\n",
       " 'process_graph': {'sum': {'arguments': {'data': [{'from_parameter': 'x'},\n",
       "     {'from_parameter': 'y'}],\n",
       "    'ignore_nodata': False},\n",
       "   'process_id': 'sum',\n",
       "   'result': True}},\n",
       " 'returns': {'description': 'The computed sum of the two numbers.',\n",
       "  'schema': {'type': ['number', 'null']}},\n",
       " 'summary': 'Addition of two numbers'}"
      ]
     },
     "execution_count": 8,
     "metadata": {},
     "output_type": "execute_result"
    }
   ],
   "source": [
    "connection.describe_process(\"add\")"
   ]
  },
  {
   "cell_type": "code",
   "execution_count": null,
   "id": "af5a6837",
   "metadata": {},
   "outputs": [],
   "source": []
  }
 ],
 "metadata": {
  "kernelspec": {
   "display_name": "Python 3",
   "language": "python",
   "name": "python3"
  },
  "language_info": {
   "codemirror_mode": {
    "name": "ipython",
    "version": 3
   },
   "file_extension": ".py",
   "mimetype": "text/x-python",
   "name": "python",
   "nbconvert_exporter": "python",
   "pygments_lexer": "ipython3",
   "version": "3.6.8"
  }
 },
 "nbformat": 4,
 "nbformat_minor": 5
}
